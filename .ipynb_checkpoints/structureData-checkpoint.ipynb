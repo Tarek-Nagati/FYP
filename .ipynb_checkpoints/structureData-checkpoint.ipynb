{
 "cells": [
  {
   "cell_type": "code",
   "execution_count": 1,
   "metadata": {},
   "outputs": [],
   "source": [
    "# This module is responsible for taking the unstructured raw data containing all the images\n",
    "# which are mixed together (categorically) and make new folders (0,1,2,3,4) each containing\n",
    "# the corresponding images. This will help the training algorithm distinguish between the different\n",
    "# images."
   ]
  },
  {
   "cell_type": "code",
   "execution_count": 2,
   "metadata": {},
   "outputs": [],
   "source": [
    "#Import libraries used for the module\n",
    "\n",
    "import pathlib   # library to read paths from the folders structured in the project\n",
    "import os  # library to help execute operating system commands such as moving files or renaming folders\n",
    "import csv # library that helps read the csv file which contains image_name(image) - category(level) columns\n"
   ]
  },
  {
   "cell_type": "code",
   "execution_count": 3,
   "metadata": {},
   "outputs": [],
   "source": [
    "# Main directory for the project containing all the folders including code\n",
    "\n",
    "DATADIR = \"./Dataset/resized_train_cropped/\""
   ]
  },
  {
   "cell_type": "code",
   "execution_count": 4,
   "metadata": {},
   "outputs": [
    {
     "name": "stdout",
     "output_type": "stream",
     "text": [
      "Processed 35109 lines.\n"
     ]
    }
   ],
   "source": [
    "# At first create a dictionary that will hold each image-level relationship.\n",
    "# By using the csv reader method, the code will read each row and determine which image relates to which category\n",
    "# Hold a line_count variable to count the lines of the csv file\n",
    "\n",
    "labelDict = {}\n",
    "\n",
    "with open(pathlib.Path(os.path.expanduser(\"./Dataset/trainLabels_cropped.csv\"))) as csv_file:\n",
    "    csv_reader = csv.reader(csv_file, delimiter = ',')\n",
    "    \n",
    "    line_count = 0\n",
    "    for row in csv_reader:\n",
    "        if line_count ! = 0:\n",
    "            labelDict[DATADIR + str(\n",
    "                row[2]) + \".jpeg\"] = int(row[3])\n",
    "        line_count + = 1\n",
    "    print(f'Processed {line_count} lines.')\n"
   ]
  },
  {
   "cell_type": "code",
   "execution_count": 5,
   "metadata": {},
   "outputs": [],
   "source": [
    "# Method which will move the images from the unstructured folder into a structured folder containing different \n",
    "# folders for each category. \n",
    "# Based on the dictionary that was created earlier, the method can move the images accordingly\n",
    "\n",
    "def structureData():\n",
    "    for img in os.listdir(DATADIR):\n",
    "        try:\n",
    "            currentName =  DATADIR + str(\n",
    "                img)\n",
    "            newDestinationName =\"./Dataset/structuredData/\" + str(labelDict[currentName]) + \"/\" + str(img)\n",
    "            os.rename(currentName, newDestinationName)\n",
    "        except Exception as e:\n",
    "            print(str(e))\n",
    "            pass\n",
    "\n",
    "structureData();"
   ]
  }
 ],
 "metadata": {
  "kernelspec": {
   "display_name": "Python 3",
   "language": "python",
   "name": "python3"
  },
  "language_info": {
   "codemirror_mode": {
    "name": "ipython",
    "version": 3
   },
   "file_extension": ".py",
   "mimetype": "text/x-python",
   "name": "python",
   "nbconvert_exporter": "python",
   "pygments_lexer": "ipython3",
   "version": "3.7.6"
  }
 },
 "nbformat": 4,
 "nbformat_minor": 4
}
